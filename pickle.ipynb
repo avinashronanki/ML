{
  "nbformat": 4,
  "nbformat_minor": 0,
  "metadata": {
    "colab": {
      "name": "pickle.ipynb",
      "provenance": [],
      "authorship_tag": "ABX9TyPwEZ9JT3Yo5tjsIszPtH4Y",
      "include_colab_link": true
    },
    "kernelspec": {
      "name": "python3",
      "display_name": "Python 3"
    }
  },
  "cells": [
    {
      "cell_type": "markdown",
      "metadata": {
        "id": "view-in-github",
        "colab_type": "text"
      },
      "source": [
        "<a href=\"https://colab.research.google.com/github/avinashronanki/ML/blob/main/pickle.ipynb\" target=\"_parent\"><img src=\"https://colab.research.google.com/assets/colab-badge.svg\" alt=\"Open In Colab\"/></a>"
      ]
    },
    {
      "cell_type": "code",
      "metadata": {
        "id": "cRsjCwlBW9HJ",
        "outputId": "7a32d1b1-fd9b-4060-eee9-b69119265bd1",
        "colab": {
          "base_uri": "https://localhost:8080/"
        }
      },
      "source": [
        "!git clone https://github.com/avinashronanki/ML.git"
      ],
      "execution_count": 10,
      "outputs": [
        {
          "output_type": "stream",
          "text": [
            "Cloning into 'ML'...\n",
            "remote: Enumerating objects: 19, done.\u001b[K\n",
            "remote: Counting objects: 100% (19/19), done.\u001b[K\n",
            "remote: Compressing objects: 100% (13/13), done.\u001b[K\n",
            "remote: Total 19 (delta 4), reused 15 (delta 4), pack-reused 0\u001b[K\n",
            "Unpacking objects: 100% (19/19), done.\n"
          ],
          "name": "stdout"
        }
      ]
    },
    {
      "cell_type": "code",
      "metadata": {
        "id": "N91zVgUfXEAw",
        "outputId": "25a5fe69-4dd7-40ac-81a9-a19da8042357",
        "colab": {
          "base_uri": "https://localhost:8080/"
        }
      },
      "source": [
        "%cd /content/ML"
      ],
      "execution_count": 11,
      "outputs": [
        {
          "output_type": "stream",
          "text": [
            "/content/ML\n"
          ],
          "name": "stdout"
        }
      ]
    },
    {
      "cell_type": "code",
      "metadata": {
        "id": "ueTEf5D9VH7F",
        "outputId": "1a981516-4187-4ae7-f21d-c9bd0073513e",
        "colab": {
          "base_uri": "https://localhost:8080/"
        }
      },
      "source": [
        "!wget https://github.com/avinashronanki/ML/blob/main/classifier.pickle"
      ],
      "execution_count": 1,
      "outputs": [
        {
          "output_type": "stream",
          "text": [
            "--2020-11-09 18:47:21--  https://github.com/avinashronanki/ML/blob/main/classifier.pickle\n",
            "Resolving github.com (github.com)... 140.82.112.3\n",
            "Connecting to github.com (github.com)|140.82.112.3|:443... connected.\n",
            "HTTP request sent, awaiting response... 200 OK\n",
            "Length: unspecified [text/html]\n",
            "Saving to: ‘classifier.pickle’\n",
            "\n",
            "classifier.pickle       [ <=>                ]  77.77K  --.-KB/s    in 0.03s   \n",
            "\n",
            "2020-11-09 18:47:21 (2.84 MB/s) - ‘classifier.pickle’ saved [79633]\n",
            "\n"
          ],
          "name": "stdout"
        }
      ]
    },
    {
      "cell_type": "code",
      "metadata": {
        "id": "0LrfKzIjVaQY",
        "outputId": "b64a886c-f686-474e-b108-891dcbdecde1",
        "colab": {
          "base_uri": "https://localhost:8080/"
        }
      },
      "source": [
        "!wget https://github.com/avinashronanki/ML/blob/main/sc.pickle"
      ],
      "execution_count": 2,
      "outputs": [
        {
          "output_type": "stream",
          "text": [
            "--2020-11-09 18:47:54--  https://github.com/avinashronanki/ML/blob/main/sc.pickle\n",
            "Resolving github.com (github.com)... 140.82.112.4\n",
            "Connecting to github.com (github.com)|140.82.112.4|:443... connected.\n",
            "HTTP request sent, awaiting response... 200 OK\n",
            "Length: unspecified [text/html]\n",
            "Saving to: ‘sc.pickle’\n",
            "\n",
            "sc.pickle               [ <=>                ]  77.61K  --.-KB/s    in 0.03s   \n",
            "\n",
            "2020-11-09 18:47:55 (2.86 MB/s) - ‘sc.pickle’ saved [79477]\n",
            "\n"
          ],
          "name": "stdout"
        }
      ]
    },
    {
      "cell_type": "code",
      "metadata": {
        "id": "xdcbDsy1VhGI"
      },
      "source": [
        "import numpy as np\n",
        "\n",
        "import pandas as pd\n",
        "import pickle"
      ],
      "execution_count": 8,
      "outputs": []
    },
    {
      "cell_type": "code",
      "metadata": {
        "id": "GPK2CVzbWNM9",
        "outputId": "6647543d-7aa9-41e0-e06d-adc16d1ae82e",
        "colab": {
          "base_uri": "https://localhost:8080/",
          "height": 164
        }
      },
      "source": [
        "classifier_colab = pickle.load(open('/content/classifier.pickle','rb'))"
      ],
      "execution_count": 9,
      "outputs": [
        {
          "output_type": "error",
          "ename": "UnpicklingError",
          "evalue": "ignored",
          "traceback": [
            "\u001b[0;31m---------------------------------------------------------------------------\u001b[0m",
            "\u001b[0;31mUnpicklingError\u001b[0m                           Traceback (most recent call last)",
            "\u001b[0;32m<ipython-input-9-13bd1267d2a1>\u001b[0m in \u001b[0;36m<module>\u001b[0;34m()\u001b[0m\n\u001b[0;32m----> 1\u001b[0;31m \u001b[0mclassifier_colab\u001b[0m \u001b[0;34m=\u001b[0m \u001b[0mpickle\u001b[0m\u001b[0;34m.\u001b[0m\u001b[0mload\u001b[0m\u001b[0;34m(\u001b[0m\u001b[0mopen\u001b[0m\u001b[0;34m(\u001b[0m\u001b[0;34m'/content/classifier.pickle'\u001b[0m\u001b[0;34m,\u001b[0m\u001b[0;34m'rb'\u001b[0m\u001b[0;34m)\u001b[0m\u001b[0;34m)\u001b[0m\u001b[0;34m\u001b[0m\u001b[0;34m\u001b[0m\u001b[0m\n\u001b[0m",
            "\u001b[0;31mUnpicklingError\u001b[0m: invalid load key, '\\x0a'."
          ]
        }
      ]
    },
    {
      "cell_type": "code",
      "metadata": {
        "id": "5NMizFUoVmNl",
        "outputId": "7601aca8-7b6d-49ec-be1c-80445128e089",
        "colab": {
          "base_uri": "https://localhost:8080/"
        }
      },
      "source": [
        "classifier_colab = pickle.load(open('/content/ML/classifier.pickle','rb'))\n",
        "\n",
        "scaler_colab = pickle.load(open('/content/ML/sc.pickle','rb'))"
      ],
      "execution_count": 12,
      "outputs": [
        {
          "output_type": "stream",
          "text": [
            "/usr/local/lib/python3.6/dist-packages/sklearn/base.py:318: UserWarning: Trying to unpickle estimator KNeighborsClassifier from version 0.23.0 when using version 0.22.2.post1. This might lead to breaking code or invalid results. Use at your own risk.\n",
            "  UserWarning)\n",
            "/usr/local/lib/python3.6/dist-packages/sklearn/base.py:318: UserWarning: Trying to unpickle estimator StandardScaler from version 0.23.0 when using version 0.22.2.post1. This might lead to breaking code or invalid results. Use at your own risk.\n",
            "  UserWarning)\n"
          ],
          "name": "stderr"
        }
      ]
    },
    {
      "cell_type": "code",
      "metadata": {
        "id": "3j3hV18CXTAf",
        "outputId": "c1848f99-db10-4dba-c702-e8e9325e14ce",
        "colab": {
          "base_uri": "https://localhost:8080/"
        }
      },
      "source": [
        "new_pred = classifier_colab.predict(scaler_colab.transform(np.array([[40,20000]])))\n",
        "\n",
        "new_pred"
      ],
      "execution_count": 13,
      "outputs": [
        {
          "output_type": "execute_result",
          "data": {
            "text/plain": [
              "array([0])"
            ]
          },
          "metadata": {
            "tags": []
          },
          "execution_count": 13
        }
      ]
    },
    {
      "cell_type": "code",
      "metadata": {
        "id": "GaCdyhWtXYk7",
        "outputId": "432f35c7-e5c1-42bc-ffc4-491232b57017",
        "colab": {
          "base_uri": "https://localhost:8080/"
        }
      },
      "source": [
        "new_pred_proba = classifier_colab.predict_proba(scaler_colab.transform(np.array([[40,20000]])))[:,1]\n",
        "new_pred_proba"
      ],
      "execution_count": 14,
      "outputs": [
        {
          "output_type": "execute_result",
          "data": {
            "text/plain": [
              "array([0.2])"
            ]
          },
          "metadata": {
            "tags": []
          },
          "execution_count": 14
        }
      ]
    },
    {
      "cell_type": "code",
      "metadata": {
        "id": "AUvlLj17XeLF",
        "outputId": "23baba7c-5e11-4980-9058-757d04ac662b",
        "colab": {
          "base_uri": "https://localhost:8080/"
        }
      },
      "source": [
        "new_pred_2 = classifier_colab.predict(scaler_colab.transform(np.array([[42,50000]])))\n",
        "new_pred_proba_2 = classifier_colab.predict_proba(scaler_colab.transform(np.array([[42,50000]])))[:,1]\n",
        "new_pred_2"
      ],
      "execution_count": 15,
      "outputs": [
        {
          "output_type": "execute_result",
          "data": {
            "text/plain": [
              "array([1])"
            ]
          },
          "metadata": {
            "tags": []
          },
          "execution_count": 15
        }
      ]
    },
    {
      "cell_type": "code",
      "metadata": {
        "id": "zXuuI46RXgvB",
        "outputId": "0dd7f942-2a2e-4d75-e0ce-a0e877929c17",
        "colab": {
          "base_uri": "https://localhost:8080/"
        }
      },
      "source": [
        "new_pred_proba_2"
      ],
      "execution_count": 16,
      "outputs": [
        {
          "output_type": "execute_result",
          "data": {
            "text/plain": [
              "array([0.8])"
            ]
          },
          "metadata": {
            "tags": []
          },
          "execution_count": 16
        }
      ]
    }
  ]
}