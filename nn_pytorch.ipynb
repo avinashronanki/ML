{
  "nbformat": 4,
  "nbformat_minor": 0,
  "metadata": {
    "colab": {
      "name": "nn_pytorch.ipynb",
      "provenance": [],
      "authorship_tag": "ABX9TyOMFTk2bTfoaOcFZ0xRzLwg",
      "include_colab_link": true
    },
    "kernelspec": {
      "name": "python3",
      "display_name": "Python 3"
    }
  },
  "cells": [
    {
      "cell_type": "markdown",
      "metadata": {
        "id": "view-in-github",
        "colab_type": "text"
      },
      "source": [
        "<a href=\"https://colab.research.google.com/github/avinashronanki/ML/blob/master/nn_pytorch.ipynb\" target=\"_parent\"><img src=\"https://colab.research.google.com/assets/colab-badge.svg\" alt=\"Open In Colab\"/></a>"
      ]
    },
    {
      "cell_type": "code",
      "metadata": {
        "id": "a84oPbbuEpAn"
      },
      "source": [
        "\n",
        "import torch\n",
        "import torch.nn as nn\n",
        "from torch.nn import functional as F\n",
        "\n",
        "import pandas as pd\n",
        "import numpy as np\n",
        "\n",
        "dataset = pd.read_csv('https://raw.githubusercontent.com/futurexskill/ml-model-deployment/main/storepurchasedata_large.csv')\n",
        "\n",
        "dataset.describe()\n",
        "\n",
        "dataset.head()\n",
        "\n",
        "X = dataset.iloc[:, :-1].values\n",
        "y = dataset.iloc[:,-1].values\n",
        "\n",
        "from sklearn.model_selection import train_test_split\n",
        "X_train, X_test, y_train, y_test = train_test_split(X, y, test_size =.20,random_state=0)\n",
        "\n",
        "from sklearn.preprocessing import StandardScaler\n",
        "sc = StandardScaler()\n",
        "X_train = sc.fit_transform(X_train)\n",
        "X_test = sc.transform(X_test)\n",
        "\n",
        "Xtrain_ = torch.from_numpy(X_train).float()\n",
        "Xtest_ = torch.from_numpy(X_test).float()\n",
        "\n",
        "Xtrain_\n",
        "\n",
        "ytrain_ = torch.from_numpy(y_train)\n",
        "ytest_ = torch.from_numpy(y_test)\n",
        "\n",
        "ytrain_\n",
        "\n",
        "Xtrain_.shape, ytrain_.shape\n",
        "\n",
        "Xtest_.shape, ytest_.shape\n",
        "\n",
        "input_size=2\n",
        "output_size=2\n",
        "hidden_size=10\n",
        "\n",
        "class Net(nn.Module):\n",
        "   def __init__(self):\n",
        "       super(Net, self).__init__()\n",
        "       self.fc1 = torch.nn.Linear(input_size, hidden_size)\n",
        "       self.fc2 = torch.nn.Linear(hidden_size, hidden_size)\n",
        "       self.fc3 = torch.nn.Linear(hidden_size, output_size)\n",
        "\n",
        "\n",
        "   def forward(self, X):\n",
        "       X = torch.relu((self.fc1(X)))\n",
        "       X = torch.relu((self.fc2(X)))\n",
        "       X = self.fc3(X)\n",
        "\n",
        "       return F.log_softmax(X,dim=1)\n",
        "\n",
        "model = Net()\n",
        "\n",
        "import torch.optim as optim\n",
        "optimizer = torch.optim.Adam(model.parameters(), lr=0.01)\n",
        "loss_fn = nn.NLLLoss()\n",
        "\n",
        "epochs = 100\n",
        "\n",
        "for epoch in range(epochs):\n",
        "  optimizer.zero_grad()\n",
        "  Ypred = model(Xtrain_)\n",
        "  loss = loss_fn(Ypred,  ytrain_)\n",
        "  loss.backward()\n",
        "  optimizer.step()\n",
        "  print('Epoch',epoch, 'loss',loss.item())\n",
        "\n",
        "list(model.parameters())\n",
        "\n",
        "torch.from_numpy(sc.transform(np.array([[40,20000]]))).float()\n",
        "\n",
        "y_cust_20_40000 = model(torch.from_numpy(sc.transform(np.array([[40,20000]]))).float())\n",
        "y_cust_20_40000\n",
        "\n",
        "_, predicted_20_40000 = torch.max(y_cust_20_40000.data,-1)\n",
        "predicted_20_40000\n",
        "\n",
        "y_cust_42_50000 = model(torch.from_numpy(sc.transform(np.array([[42,50000]]))).float())\n",
        "y_cust_42_50000\n",
        "\n",
        "_, predicted_42_50000 = torch.max(y_cust_42_50000.data,-1)\n",
        "predicted_42_50000\n",
        "\n",
        "torch.save(model,'customer_buy.pt')\n",
        "\n",
        "!ls\n",
        "\n",
        "restored_model = torch.load('customer_buy.pt')\n",
        "\n",
        "y_cust_20_40000 = restored_model(torch.from_numpy(sc.transform(np.array([[40,20000]]))).float())\n",
        "y_cust_20_40000\n",
        "\n",
        "_, predicted_20_40000 = torch.max(y_cust_20_40000.data,-1)\n",
        "predicted_20_40000\n",
        "\n",
        "model.state_dict()\n",
        "\n",
        "torch.save(model.state_dict(),'customer_buy_state_dict')\n",
        "\n",
        "!ls\n",
        "\n",
        "new_predictor = Net()\n",
        "\n",
        "y_cust_20_40000 = new_predictor(torch.from_numpy(sc.transform(np.array([[40,20000]]))).float())\n",
        "y_cust_20_40000\n",
        "\n",
        "!zip -r customer_buy_state_dict.zip customer_buy_state_dict\n",
        "\n",
        "!ls\n",
        "\n",
        "from google.colab import files\n",
        "\n",
        "files.download('customer_buy_state_dict.zip')\n",
        "\n"
      ],
      "execution_count": null,
      "outputs": []
    },
    {
      "cell_type": "code",
      "metadata": {
        "id": "1TYH-xFXEzuF"
      },
      "source": [
        "import torch\n",
        "import torch.nn as nn\n",
        "from torch.nn import functional as F\n",
        "\n",
        "import pandas as pd\n",
        "import numpy as np\n"
      ],
      "execution_count": 1,
      "outputs": []
    },
    {
      "cell_type": "code",
      "metadata": {
        "id": "UJkIL_pnE23I"
      },
      "source": [
        "\n",
        "dataset = pd.read_csv('https://raw.githubusercontent.com/futurexskill/ml-model-deployment/main/storepurchasedata_large.csv')\n",
        "\n",
        "dataset.describe()\n",
        "\n",
        "dataset.head()"
      ],
      "execution_count": null,
      "outputs": []
    },
    {
      "cell_type": "code",
      "metadata": {
        "id": "S4TpBbcSE_qW"
      },
      "source": [
        "X = dataset.iloc[:, :-1].values\n",
        "y = dataset.iloc[:,-1].values"
      ],
      "execution_count": 3,
      "outputs": []
    },
    {
      "cell_type": "code",
      "metadata": {
        "id": "sLrroglUFMjs"
      },
      "source": [
        "\n",
        "from sklearn.model_selection import train_test_split\n",
        "X_train, X_test, y_train, y_test = train_test_split(X, y, test_size =.20,random_state=0)"
      ],
      "execution_count": 4,
      "outputs": []
    },
    {
      "cell_type": "code",
      "metadata": {
        "id": "M_5JSAilFRzV"
      },
      "source": [
        "\n",
        "from sklearn.preprocessing import StandardScaler # scale the data \n",
        "sc = StandardScaler()\n",
        "X_train = sc.fit_transform(X_train)\n",
        "X_test = sc.transform(X_test)"
      ],
      "execution_count": 6,
      "outputs": []
    },
    {
      "cell_type": "code",
      "metadata": {
        "id": "1GXT7YAoFi85"
      },
      "source": [
        "Xtrain_ = torch.from_numpy(X_train).float()  # converting into tensor \n",
        "Xtest_ = torch.from_numpy(X_test).float()\n",
        "\n",
        "Xtrain_"
      ],
      "execution_count": null,
      "outputs": []
    },
    {
      "cell_type": "code",
      "metadata": {
        "id": "H77glNMUFnCv",
        "outputId": "da633d5c-3e78-4319-be95-254fbdbc7819",
        "colab": {
          "base_uri": "https://localhost:8080/"
        }
      },
      "source": [
        "ytrain_ = torch.from_numpy(y_train) # converting into tensor \n",
        "ytest_ = torch.from_numpy(y_test)\n",
        "\n",
        "ytrain_"
      ],
      "execution_count": 8,
      "outputs": [
        {
          "output_type": "execute_result",
          "data": {
            "text/plain": [
              "tensor([1, 1, 1,  ..., 1, 1, 0])"
            ]
          },
          "metadata": {
            "tags": []
          },
          "execution_count": 8
        }
      ]
    },
    {
      "cell_type": "code",
      "metadata": {
        "id": "qD2pved2Fxnx",
        "outputId": "e7f5acd5-f752-47aa-fdfa-5c7a5801cf32",
        "colab": {
          "base_uri": "https://localhost:8080/"
        }
      },
      "source": [
        "Xtrain_.shape, ytrain_.shape # train shape \n",
        "\n"
      ],
      "execution_count": 10,
      "outputs": [
        {
          "output_type": "execute_result",
          "data": {
            "text/plain": [
              "(torch.Size([1243, 2]), torch.Size([1243]))"
            ]
          },
          "metadata": {
            "tags": []
          },
          "execution_count": 10
        }
      ]
    },
    {
      "cell_type": "code",
      "metadata": {
        "id": "p1QbhXs3Fz-7"
      },
      "source": [
        "Xtest_.shape, ytest_.shape #test shape "
      ],
      "execution_count": null,
      "outputs": []
    },
    {
      "cell_type": "code",
      "metadata": {
        "id": "TJRYc824GZgV"
      },
      "source": [
        "input_size=2 \n",
        "output_size=2\n",
        "hidden_size=10\n",
        "epochs = 100"
      ],
      "execution_count": 13,
      "outputs": []
    },
    {
      "cell_type": "code",
      "metadata": {
        "id": "HGxWR9AGGafY"
      },
      "source": [
        "class Net(nn.Module): #tpical NN class \n",
        "   def __init__(self):\n",
        "       super(Net, self).__init__()\n",
        "       self.fc1 = torch.nn.Linear(input_size, hidden_size) # fully connected layer \n",
        "       self.fc2 = torch.nn.Linear(hidden_size, hidden_size) # fully connected hidden layer \n",
        "       self.fc3 = torch.nn.Linear(hidden_size, output_size)\n",
        "\n",
        "\n",
        "   def forward(self, X):\n",
        "       X = torch.relu((self.fc1(X))) # relu activation function \n",
        "       X = torch.relu((self.fc2(X)))\n",
        "       X = self.fc3(X)\n",
        "\n",
        "       return F.log_softmax(X,dim=1) # softmax layer for probablity \n",
        "\n",
        "model = Net()"
      ],
      "execution_count": 12,
      "outputs": []
    },
    {
      "cell_type": "code",
      "metadata": {
        "id": "8s31x2swG6hJ"
      },
      "source": [
        "import torch.optim as optim\n",
        "optimizer = torch.optim.Adam(model.parameters(), lr=0.01) #optimizer learning rate \n",
        "loss_fn = nn.NLLLoss() # loss fuction "
      ],
      "execution_count": 15,
      "outputs": []
    },
    {
      "cell_type": "code",
      "metadata": {
        "id": "kOr5pgB1HgFq"
      },
      "source": [
        "for epoch in range(epochs): # training the model \n",
        "  optimizer.zero_grad()\n",
        "  Ypred = model(Xtrain_)\n",
        "  loss = loss_fn(Ypred,  ytrain_)\n",
        "  loss.backward()\n",
        "  optimizer.step()\n",
        "  print('Epoch',epoch, 'loss',loss.item())"
      ],
      "execution_count": null,
      "outputs": []
    },
    {
      "cell_type": "code",
      "metadata": {
        "id": "43DnIZ1YHnN3"
      },
      "source": [
        "\n",
        "list(model.parameters())"
      ],
      "execution_count": null,
      "outputs": []
    },
    {
      "cell_type": "code",
      "metadata": {
        "id": "CDCMMGDrIG2u",
        "outputId": "67ea55ee-9929-46dd-d1ab-a245f91b0b9a",
        "colab": {
          "base_uri": "https://localhost:8080/"
        }
      },
      "source": [
        "\n",
        "torch.from_numpy(sc.transform(np.array([[40,20000]]))).float() # test "
      ],
      "execution_count": 18,
      "outputs": [
        {
          "output_type": "execute_result",
          "data": {
            "text/plain": [
              "tensor([[   40., 20000.]])"
            ]
          },
          "metadata": {
            "tags": []
          },
          "execution_count": 18
        }
      ]
    },
    {
      "cell_type": "code",
      "metadata": {
        "id": "0ulJF0V3Ia7O",
        "outputId": "d08d2dc4-9994-42b5-9986-da2e8ced38b2",
        "colab": {
          "base_uri": "https://localhost:8080/"
        }
      },
      "source": [
        "y_cust_20_40000 = model(torch.from_numpy(sc.transform(np.array([[40,20000]]))).float())\n",
        "y_cust_20_40000"
      ],
      "execution_count": 19,
      "outputs": [
        {
          "output_type": "execute_result",
          "data": {
            "text/plain": [
              "tensor([[-103388.2812,       0.0000]], grad_fn=<LogSoftmaxBackward>)"
            ]
          },
          "metadata": {
            "tags": []
          },
          "execution_count": 19
        }
      ]
    },
    {
      "cell_type": "code",
      "metadata": {
        "id": "syosYfzjIfib",
        "outputId": "99816e2e-34e6-4dc5-e894-2da445c02dc7",
        "colab": {
          "base_uri": "https://localhost:8080/"
        }
      },
      "source": [
        "_, predicted_20_40000 = torch.max(y_cust_20_40000.data,-1)  # prediction class \n",
        "predicted_20_40000"
      ],
      "execution_count": 20,
      "outputs": [
        {
          "output_type": "execute_result",
          "data": {
            "text/plain": [
              "tensor([1])"
            ]
          },
          "metadata": {
            "tags": []
          },
          "execution_count": 20
        }
      ]
    },
    {
      "cell_type": "code",
      "metadata": {
        "id": "Sk_iQl-fIoaE",
        "outputId": "33069d4c-7dd7-4964-946f-0d7e8fedb12f",
        "colab": {
          "base_uri": "https://localhost:8080/"
        }
      },
      "source": [
        "y_cust_42_50000 = model(torch.from_numpy(sc.transform(np.array([[42,50000]]))).float())\n",
        "y_cust_42_50000"
      ],
      "execution_count": 21,
      "outputs": [
        {
          "output_type": "execute_result",
          "data": {
            "text/plain": [
              "tensor([[-258402.4531,       0.0000]], grad_fn=<LogSoftmaxBackward>)"
            ]
          },
          "metadata": {
            "tags": []
          },
          "execution_count": 21
        }
      ]
    },
    {
      "cell_type": "code",
      "metadata": {
        "id": "9qoWo3RVIp1b",
        "outputId": "da43fa5c-6a5d-48fa-a823-c663ab0a22a3",
        "colab": {
          "base_uri": "https://localhost:8080/"
        }
      },
      "source": [
        "_, predicted_42_50000 = torch.max(y_cust_42_50000.data,-1)\n",
        "predicted_42_50000"
      ],
      "execution_count": 22,
      "outputs": [
        {
          "output_type": "execute_result",
          "data": {
            "text/plain": [
              "tensor([1])"
            ]
          },
          "metadata": {
            "tags": []
          },
          "execution_count": 22
        }
      ]
    },
    {
      "cell_type": "code",
      "metadata": {
        "id": "UaT40_SnJBjL"
      },
      "source": [
        "torch.save(model,'customer_buy.pt') # save the model"
      ],
      "execution_count": 23,
      "outputs": []
    },
    {
      "cell_type": "code",
      "metadata": {
        "id": "Htyx1Xd8JIaB"
      },
      "source": [
        "restored_model = torch.load('customer_buy.pt') # using the saved model \n",
        "\n"
      ],
      "execution_count": 24,
      "outputs": []
    },
    {
      "cell_type": "code",
      "metadata": {
        "id": "AX4KwUvuJKX5",
        "outputId": "64256a9e-6515-4632-88a3-f77c160da9b0",
        "colab": {
          "base_uri": "https://localhost:8080/"
        }
      },
      "source": [
        "y_cust_20_40000 = restored_model(torch.from_numpy(sc.transform(np.array([[40,20000]]))).float())\n",
        "y_cust_20_40000\n",
        "\n"
      ],
      "execution_count": 25,
      "outputs": [
        {
          "output_type": "execute_result",
          "data": {
            "text/plain": [
              "tensor([[-103388.2812,       0.0000]], grad_fn=<LogSoftmaxBackward>)"
            ]
          },
          "metadata": {
            "tags": []
          },
          "execution_count": 25
        }
      ]
    },
    {
      "cell_type": "code",
      "metadata": {
        "id": "rFh5pESDJLgF",
        "outputId": "d3c75ffa-b87a-4b50-ee30-5da7de499972",
        "colab": {
          "base_uri": "https://localhost:8080/"
        }
      },
      "source": [
        "_, predicted_20_40000 = torch.max(y_cust_20_40000.data,-1)\n",
        "predicted_20_40000"
      ],
      "execution_count": 26,
      "outputs": [
        {
          "output_type": "execute_result",
          "data": {
            "text/plain": [
              "tensor([1])"
            ]
          },
          "metadata": {
            "tags": []
          },
          "execution_count": 26
        }
      ]
    },
    {
      "cell_type": "code",
      "metadata": {
        "id": "kvabl_lpJUfl",
        "outputId": "a520db4f-cd96-47b5-fdcf-ce794bb3dffe",
        "colab": {
          "base_uri": "https://localhost:8080/"
        }
      },
      "source": [
        "model.state_dict() # weight of the model can be assessed \n",
        "\n"
      ],
      "execution_count": 27,
      "outputs": [
        {
          "output_type": "execute_result",
          "data": {
            "text/plain": [
              "OrderedDict([('fc1.weight', tensor([[ 0.7236,  0.3059],\n",
              "                      [ 0.0572,  0.6705],\n",
              "                      [ 0.6397,  0.2669],\n",
              "                      [ 0.4604, -0.1189],\n",
              "                      [ 0.4668,  0.8093],\n",
              "                      [ 0.8860, -0.2701],\n",
              "                      [ 0.4740,  0.6894],\n",
              "                      [-0.9594,  0.8412],\n",
              "                      [-1.0037, -0.8508],\n",
              "                      [-0.9141, -0.3944]])),\n",
              "             ('fc1.bias',\n",
              "              tensor([ 0.4523,  0.5265,  0.8296,  1.1094,  0.4882, -0.0092, -0.2761,  0.3868,\n",
              "                       0.5546,  0.6235])),\n",
              "             ('fc2.weight',\n",
              "              tensor([[ 0.1189, -0.1439, -0.1744, -0.2777,  0.1959, -0.1289,  0.0303, -0.1794,\n",
              "                       -0.0040, -0.1330],\n",
              "                      [ 0.1773, -0.2261, -0.3219,  0.2010, -0.2538, -0.1496,  0.0610, -0.1575,\n",
              "                        0.1278, -0.3253],\n",
              "                      [-0.0571,  0.1791,  0.1864, -0.3067, -0.3453,  0.0714,  0.0831, -0.2975,\n",
              "                       -0.0869,  0.1753],\n",
              "                      [ 0.3832,  0.5746,  0.2588,  0.0555,  0.4939,  0.3560,  0.0537,  0.6135,\n",
              "                       -0.3857,  0.0302],\n",
              "                      [ 0.0972, -0.0162,  0.0510,  0.2593, -0.3666, -0.3347,  0.0065, -0.5563,\n",
              "                        0.6370,  0.5793],\n",
              "                      [ 0.6827,  0.2808,  0.4659,  0.0249,  0.3742,  0.4162,  0.2285,  0.3116,\n",
              "                       -0.1869,  0.0716],\n",
              "                      [ 0.4649,  0.4263,  0.3783,  0.2960,  0.0181,  0.8939,  0.1431,  0.6593,\n",
              "                       -0.2880, -0.0848],\n",
              "                      [ 0.2270,  0.0117, -0.2030,  0.1345, -0.3760, -0.0893, -0.1409, -0.0776,\n",
              "                       -0.2558,  0.1516],\n",
              "                      [-0.7957, -0.5466, -0.1654,  0.5657, -0.4729, -0.3839,  0.0055, -0.5258,\n",
              "                        0.4858,  0.4273],\n",
              "                      [ 0.0807,  0.0716,  0.3989,  0.3583,  0.4680,  0.7731,  0.3974,  0.5791,\n",
              "                       -0.3332, -0.2098]])),\n",
              "             ('fc2.bias',\n",
              "              tensor([-0.2546, -0.3418, -0.3049,  0.3910, -0.0947,  0.0768,  0.1293, -0.3599,\n",
              "                       0.7115,  0.4675])),\n",
              "             ('fc3.weight',\n",
              "              tensor([[-0.2770,  0.1900, -0.2711, -0.2140,  0.1890, -0.1606, -0.5070,  0.0959,\n",
              "                        0.5978, -0.6342],\n",
              "                      [-0.1606,  0.0617, -0.2088,  0.4868, -0.5331,  0.7010,  0.5939,  0.0206,\n",
              "                       -0.4675,  0.6617]])),\n",
              "             ('fc3.bias', tensor([0.1153, 0.0402]))])"
            ]
          },
          "metadata": {
            "tags": []
          },
          "execution_count": 27
        }
      ]
    },
    {
      "cell_type": "code",
      "metadata": {
        "id": "b4jFmiOKJgsc"
      },
      "source": [
        "torch.save(model.state_dict(),'customer_buy_state_dict') # prefered way to save the model "
      ],
      "execution_count": 28,
      "outputs": []
    },
    {
      "cell_type": "code",
      "metadata": {
        "id": "wbGDixqAKRA5"
      },
      "source": [
        "new_predictor = Net() #using the dict save model \n",
        "\n",
        "\n",
        "\n"
      ],
      "execution_count": 29,
      "outputs": []
    },
    {
      "cell_type": "code",
      "metadata": {
        "id": "eh7IJLX0KcEM",
        "outputId": "d6f3f1a7-7c04-48c8-e849-04b228b46277",
        "colab": {
          "base_uri": "https://localhost:8080/"
        }
      },
      "source": [
        "y_cust_20_40000 = new_predictor(torch.from_numpy(sc.transform(np.array([[40,20000]]))).float())\n",
        "y_cust_20_40000"
      ],
      "execution_count": 30,
      "outputs": [
        {
          "output_type": "execute_result",
          "data": {
            "text/plain": [
              "tensor([[-1053.1417,     0.0000]], grad_fn=<LogSoftmaxBackward>)"
            ]
          },
          "metadata": {
            "tags": []
          },
          "execution_count": 30
        }
      ]
    },
    {
      "cell_type": "code",
      "metadata": {
        "id": "VVr4n0FBKiZV",
        "outputId": "0d0281ef-b115-4b2f-9bba-496a205d6b80",
        "colab": {
          "base_uri": "https://localhost:8080/"
        }
      },
      "source": [
        "_, predicted_20_40000 = torch.max(y_cust_20_40000.data,-1)\n",
        "predicted_20_40000"
      ],
      "execution_count": 31,
      "outputs": [
        {
          "output_type": "execute_result",
          "data": {
            "text/plain": [
              "tensor([1])"
            ]
          },
          "metadata": {
            "tags": []
          },
          "execution_count": 31
        }
      ]
    },
    {
      "cell_type": "code",
      "metadata": {
        "id": "4-1YHayvKQem",
        "outputId": "5e28d495-9ff0-4254-b8db-b34767100253",
        "colab": {
          "base_uri": "https://localhost:8080/"
        }
      },
      "source": [
        "\n",
        "!zip -r customer_buy_state_dict.zip customer_buy_state_dict"
      ],
      "execution_count": 32,
      "outputs": [
        {
          "output_type": "stream",
          "text": [
            "  adding: customer_buy_state_dict (deflated 47%)\n"
          ],
          "name": "stdout"
        }
      ]
    },
    {
      "cell_type": "code",
      "metadata": {
        "id": "u3DbwNfhKYLT",
        "outputId": "6323ef8a-32dc-4ab3-c76e-28ef3fc753e5",
        "colab": {
          "base_uri": "https://localhost:8080/",
          "height": 17
        }
      },
      "source": [
        "from google.colab import files\n",
        "\n",
        "files.download('customer_buy_state_dict.zip')"
      ],
      "execution_count": 33,
      "outputs": [
        {
          "output_type": "display_data",
          "data": {
            "application/javascript": [
              "\n",
              "    async function download(id, filename, size) {\n",
              "      if (!google.colab.kernel.accessAllowed) {\n",
              "        return;\n",
              "      }\n",
              "      const div = document.createElement('div');\n",
              "      const label = document.createElement('label');\n",
              "      label.textContent = `Downloading \"${filename}\": `;\n",
              "      div.appendChild(label);\n",
              "      const progress = document.createElement('progress');\n",
              "      progress.max = size;\n",
              "      div.appendChild(progress);\n",
              "      document.body.appendChild(div);\n",
              "\n",
              "      const buffers = [];\n",
              "      let downloaded = 0;\n",
              "\n",
              "      const channel = await google.colab.kernel.comms.open(id);\n",
              "      // Send a message to notify the kernel that we're ready.\n",
              "      channel.send({})\n",
              "\n",
              "      for await (const message of channel.messages) {\n",
              "        // Send a message to notify the kernel that we're ready.\n",
              "        channel.send({})\n",
              "        if (message.buffers) {\n",
              "          for (const buffer of message.buffers) {\n",
              "            buffers.push(buffer);\n",
              "            downloaded += buffer.byteLength;\n",
              "            progress.value = downloaded;\n",
              "          }\n",
              "        }\n",
              "      }\n",
              "      const blob = new Blob(buffers, {type: 'application/binary'});\n",
              "      const a = document.createElement('a');\n",
              "      a.href = window.URL.createObjectURL(blob);\n",
              "      a.download = filename;\n",
              "      div.appendChild(a);\n",
              "      a.click();\n",
              "      div.remove();\n",
              "    }\n",
              "  "
            ],
            "text/plain": [
              "<IPython.core.display.Javascript object>"
            ]
          },
          "metadata": {
            "tags": []
          }
        },
        {
          "output_type": "display_data",
          "data": {
            "application/javascript": [
              "download(\"download_65db7437-2063-469f-8af4-ad7e3930c07d\", \"customer_buy_state_dict.zip\", 1647)"
            ],
            "text/plain": [
              "<IPython.core.display.Javascript object>"
            ]
          },
          "metadata": {
            "tags": []
          }
        }
      ]
    }
  ]
}